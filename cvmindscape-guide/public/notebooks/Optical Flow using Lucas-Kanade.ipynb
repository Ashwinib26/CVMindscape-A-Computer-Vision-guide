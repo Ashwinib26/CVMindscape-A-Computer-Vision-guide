{
 "cells": [
  {
   "cell_type": "markdown",
   "id": "1267fe55-c879-4136-ae53-ad9d62546536",
   "metadata": {},
   "source": [
    "### CV Practical Guide (Lucas-Kanade for Optical Flow)"
   ]
  },
  {
   "cell_type": "code",
   "execution_count": null,
   "id": "4a55f261-9a03-4052-afb8-cc605110cf6b",
   "metadata": {},
   "outputs": [],
   "source": []
  },
  {
   "cell_type": "code",
   "execution_count": 4,
   "id": "224b0871-32ea-4a49-b8b2-a3b8ed9accd4",
   "metadata": {},
   "outputs": [],
   "source": [
    "import cv2\n",
    "import numpy as np"
   ]
  },
  {
   "cell_type": "code",
   "execution_count": 5,
   "id": "677f71bd-5433-4f54-ad68-ff00c6ba8f48",
   "metadata": {},
   "outputs": [],
   "source": [
    "video = cv2.VideoCapture(\"C:/Users/cw/Downloads/video_circular_cars.mp4\")"
   ]
  },
  {
   "cell_type": "code",
   "execution_count": 6,
   "id": "14af85e8-6644-411c-bc19-b17ef0501463",
   "metadata": {},
   "outputs": [],
   "source": [
    "lk_params = dict(winSize=(75, 75),                               #Lucas-Kanade parameters\n",
    "                 maxLevel=2,\n",
    "                 criteria=(cv2.TERM_CRITERIA_EPS | cv2.TERM_CRITERIA_COUNT, 10, 0.03))"
   ]
  },
  {
   "cell_type": "code",
   "execution_count": 7,
   "id": "4576204a-c51c-4681-8509-63915540d3bc",
   "metadata": {},
   "outputs": [],
   "source": [
    "color = np.random.randint(0, 255, (100, 3))"
   ]
  },
  {
   "cell_type": "code",
   "execution_count": 8,
   "id": "84b9b31b-ed0b-4ee8-8b43-1704e0805573",
   "metadata": {},
   "outputs": [],
   "source": [
    "ret, prev_frame = video.read()                                                  # frame grayscale\n",
    "prev_gray = cv2.cvtColor(prev_frame, cv2.COLOR_BGR2GRAY)"
   ]
  },
  {
   "cell_type": "code",
   "execution_count": 9,
   "id": "728a2851-22ad-46ee-903e-875b6fec92f4",
   "metadata": {},
   "outputs": [
    {
     "name": "stdout",
     "output_type": "stream",
     "text": [
      "Frame size: (1920, 1080, 3)\n"
     ]
    }
   ],
   "source": [
    "print(\"Frame size:\", prev_frame.shape)"
   ]
  },
  {
   "cell_type": "code",
   "execution_count": 10,
   "id": "bbfd2824-b82f-4d4c-8556-6bc879888417",
   "metadata": {},
   "outputs": [],
   "source": [
    "feature_params = dict(maxCorners=100, qualityLevel=0.3, minDistance=7, blockSize=7)     # feature extraction from first frame \n",
    "prev_corners = cv2.goodFeaturesToTrack(prev_gray, maxCorners=500, qualityLevel=0.3, minDistance=7, blockSize=7, mask=None)"
   ]
  },
  {
   "cell_type": "code",
   "execution_count": 11,
   "id": "e1207c3c-d2ae-47ad-b6a0-5e07b97a7f26",
   "metadata": {},
   "outputs": [
    {
     "name": "stdout",
     "output_type": "stream",
     "text": [
      "Mask size: (1920, 1080, 3)\n"
     ]
    }
   ],
   "source": [
    "mask = np.zeros_like(prev_frame)\n",
    "print(\"Mask size:\", mask.shape)"
   ]
  },
  {
   "cell_type": "code",
   "execution_count": null,
   "id": "e599a8ad-eaf5-43b5-8c37-51f17231522f",
   "metadata": {},
   "outputs": [],
   "source": [
    " # Process the video frame by frame\n",
    " while True:\n",
    "    ret, curr_frame = video.read()\n",
    "    if not ret:\n",
    "        break\n",
    "        \n",
    "    # current frame to grayscale\n",
    "    curr_gray = cv2.cvtColor(curr_frame, cv2.COLOR_BGR2GRAY)\n",
    "     \n",
    "    # Calculate optical flow using Lucas-Kanade method\n",
    "    curr_corners, status, err = cv2.calcOpticalFlowPyrLK(prev_gray, curr_gray, prev_corners, None, **lk_params)\n",
    "    # Filters valid points\n",
    "    good_old = prev_corners[status == 1]\n",
    "    good_new = curr_corners[status == 1]\n",
    "    # Draw motion vectors\n",
    "    for (old, new) in zip(good_old, good_new):\n",
    "        x_old, y_old = old.ravel()\n",
    "        x_new, y_new = new.ravel()\n",
    "        mask = cv2.line(mask, (int(x_new), int(y_new)), (int(x_old), int(y_old)), (0, 0, 255), 2)\n",
    "        curr_frame = cv2.circle(curr_frame, (int(x_new), int(y_new)), 5, (0, 255, 0), -1)\n",
    "    # Combine the frame and the mask for visualization\n",
    "    output = cv2.add(curr_frame, mask)\n",
    "    # Display the result\n",
    "    cv2.namedWindow(\"Lucas-Kanade Optical Flow\", cv2.WINDOW_NORMAL)  # Make the display window resizable\n",
    "    cv2.imshow(\"Lucas-Kanade Optical Flow\", output)\n",
    "\n",
    "    # Break the Loop if 'q' is pressed\n",
    "    if cv2.waitKey(10) & 0xFF == ord('q'):\n",
    "        break\n",
    "    prev_gray = curr_gray.copy()\n",
    "    prev_corners = good_new.reshape(-1, 1, 2)"
   ]
  },
  {
   "cell_type": "code",
   "execution_count": null,
   "id": "f9367248-c1d6-45aa-9b72-74710d7e6684",
   "metadata": {},
   "outputs": [],
   "source": [
    "video.release()\n",
    "cv2.destroyAllWindows()"
   ]
  },
  {
   "cell_type": "code",
   "execution_count": null,
   "id": "8d0cb5fd-82c9-4671-82e1-62226971fd18",
   "metadata": {},
   "outputs": [],
   "source": []
  },
  {
   "cell_type": "code",
   "execution_count": null,
   "id": "6907d11d-64eb-4cb4-9682-94fa7e688773",
   "metadata": {},
   "outputs": [],
   "source": []
  }
 ],
 "metadata": {
  "kernelspec": {
   "display_name": "Python 3 (ipykernel)",
   "language": "python",
   "name": "python3"
  },
  "language_info": {
   "codemirror_mode": {
    "name": "ipython",
    "version": 3
   },
   "file_extension": ".py",
   "mimetype": "text/x-python",
   "name": "python",
   "nbconvert_exporter": "python",
   "pygments_lexer": "ipython3",
   "version": "3.11.7"
  }
 },
 "nbformat": 4,
 "nbformat_minor": 5
}
